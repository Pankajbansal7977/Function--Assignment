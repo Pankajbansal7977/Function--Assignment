{
 "cells": [
  {
   "cell_type": "code",
   "execution_count": 1,
   "id": "1e508554",
   "metadata": {},
   "outputs": [
    {
     "data": {
      "text/plain": [
       "'1. In Python, what is the difference between a built-in function and a user-defined function? Provide an\\nexample of each.'"
      ]
     },
     "execution_count": 1,
     "metadata": {},
     "output_type": "execute_result"
    }
   ],
   "source": [
    " '''1. In Python, what is the difference between a built-in function and a user-defined function? Provide an\n",
    "example of each.'''"
   ]
  },
  {
   "cell_type": "code",
   "execution_count": 2,
   "id": "35856555",
   "metadata": {},
   "outputs": [
    {
     "data": {
      "text/plain": [
       "'Built-in Function:\\nA built-in function is a pre-defined function provided by the Python programming language. These functions are readily available and can be used directly without any additional setup or implementation. Built-in functions serve various purposes and are designed to perform common tasks or operations.\\n'"
      ]
     },
     "execution_count": 2,
     "metadata": {},
     "output_type": "execute_result"
    }
   ],
   "source": [
    "'''Built-in Function:\n",
    "A built-in function is a pre-defined function provided by the Python programming language. These functions are readily available and can be used directly without any additional setup or implementation. Built-in functions serve various purposes and are designed to perform common tasks or operations.\n",
    "'''"
   ]
  },
  {
   "cell_type": "code",
   "execution_count": 3,
   "id": "d77c05ae",
   "metadata": {},
   "outputs": [
    {
     "name": "stdout",
     "output_type": "stream",
     "text": [
      "5\n"
     ]
    }
   ],
   "source": [
    "# Example of a built-in function: len()\n",
    "my_list = [1, 2, 3, 4, 5]\n",
    "length = len(my_list)\n",
    "print(length)  \n"
   ]
  },
  {
   "cell_type": "code",
   "execution_count": 4,
   "id": "db5870a8",
   "metadata": {},
   "outputs": [
    {
     "data": {
      "text/plain": [
       "'User-defined Function:\\nA user-defined function is a function that is defined by the user to perform a specific task or set of operations. These functions are created by the programmer according to their requirements. User-defined functions provide modularity and reusability, allowing the programmer to encapsulate a block of code and execute it whenever needed.'"
      ]
     },
     "execution_count": 4,
     "metadata": {},
     "output_type": "execute_result"
    }
   ],
   "source": [
    "'''User-defined Function:\n",
    "A user-defined function is a function that is defined by the user to perform a specific task or set of operations. These functions are created by the programmer according to their requirements. User-defined functions provide modularity and reusability, allowing the programmer to encapsulate a block of code and execute it whenever needed.'''"
   ]
  },
  {
   "cell_type": "code",
   "execution_count": 5,
   "id": "b1df2e28",
   "metadata": {},
   "outputs": [
    {
     "name": "stdout",
     "output_type": "stream",
     "text": [
      "25\n"
     ]
    }
   ],
   "source": [
    "# Example of a user-defined function: calculate_square()\n",
    "def calculate_square(num):\n",
    "    square = num ** 2\n",
    "    return square\n",
    "\n",
    "result = calculate_square(5)\n",
    "print(result)  \n"
   ]
  },
  {
   "cell_type": "code",
   "execution_count": 6,
   "id": "02018091",
   "metadata": {},
   "outputs": [
    {
     "data": {
      "text/plain": [
       "' 2.How can you pass arguments to a function in Python? Explain the difference between positional\\narguments and keyword arguments.'"
      ]
     },
     "execution_count": 6,
     "metadata": {},
     "output_type": "execute_result"
    }
   ],
   "source": [
    "''' 2.How can you pass arguments to a function in Python? Explain the difference between positional\n",
    "arguments and keyword arguments.'''"
   ]
  },
  {
   "cell_type": "code",
   "execution_count": 8,
   "id": "b9072774",
   "metadata": {},
   "outputs": [
    {
     "data": {
      "text/plain": [
       "'Positional Arguments:\\nPositional arguments are the most basic and common way to pass arguments to a function. When using positional arguments, the order of the arguments matters. The values are assigned to function parameters based on their position or order of appearance.'"
      ]
     },
     "execution_count": 8,
     "metadata": {},
     "output_type": "execute_result"
    }
   ],
   "source": [
    "'''Positional Arguments:\n",
    "Positional arguments are the most basic and common way to pass arguments to a function. When using positional arguments, the order of the arguments matters. The values are assigned to function parameters based on their position or order of appearance.'''"
   ]
  },
  {
   "cell_type": "code",
   "execution_count": 12,
   "id": "912f8783",
   "metadata": {},
   "outputs": [
    {
     "name": "stdout",
     "output_type": "stream",
     "text": [
      "Hello, Pankaj! You are 25 years old.\n"
     ]
    }
   ],
   "source": [
    "def name(name, age):\n",
    "    print(f\"Hello, {name}! You are {age} years old.\")\n",
    "\n",
    "name(\"Pankaj\", 25)\n"
   ]
  },
  {
   "cell_type": "code",
   "execution_count": 10,
   "id": "6ea8c6ba",
   "metadata": {},
   "outputs": [
    {
     "data": {
      "text/plain": [
       "\"Keyword Arguments:\\nKeyword arguments allow passing arguments to a function by specifying the parameter names explicitly. The order of the arguments doesn't matter in this case since each argument is assigned to the corresponding parameter based on its name.\""
      ]
     },
     "execution_count": 10,
     "metadata": {},
     "output_type": "execute_result"
    }
   ],
   "source": [
    "'''Keyword Arguments:\n",
    "Keyword arguments allow passing arguments to a function by specifying the parameter names explicitly. The order of the arguments doesn't matter in this case since each argument is assigned to the corresponding parameter based on its name.'''"
   ]
  },
  {
   "cell_type": "code",
   "execution_count": 13,
   "id": "62632dcc",
   "metadata": {},
   "outputs": [
    {
     "name": "stdout",
     "output_type": "stream",
     "text": [
      "Hello, Pankaj! You are 25 years old.\n"
     ]
    }
   ],
   "source": [
    "def name(name, age):\n",
    "    print(f\"Hello, {name}! You are {age} years old.\")\n",
    "\n",
    "name(age=25, name=\"Pankaj\")\n"
   ]
  },
  {
   "cell_type": "code",
   "execution_count": 14,
   "id": "d11974c9",
   "metadata": {},
   "outputs": [
    {
     "data": {
      "text/plain": [
       "'3.What is the purpose of the return statement in a function? Can a function have multiple return\\nstatements? Explain with an example.'"
      ]
     },
     "execution_count": 14,
     "metadata": {},
     "output_type": "execute_result"
    }
   ],
   "source": [
    "'''3.What is the purpose of the return statement in a function? Can a function have multiple return\n",
    "statements? Explain with an example.'''"
   ]
  },
  {
   "cell_type": "code",
   "execution_count": 15,
   "id": "442bc0ca",
   "metadata": {},
   "outputs": [
    {
     "data": {
      "text/plain": [
       "'The purpose of the return statement in a function is to specify the value that the function should return when it is called. When a return statement is encountered in a function, it immediately ends the execution of the function and returns the specified value (or None if no value is specified).'"
      ]
     },
     "execution_count": 15,
     "metadata": {},
     "output_type": "execute_result"
    }
   ],
   "source": [
    "'''The purpose of the return statement in a function is to specify the value that the function should return when it is called. When a return statement is encountered in a function, it immediately ends the execution of the function and returns the specified value (or None if no value is specified).'''"
   ]
  },
  {
   "cell_type": "code",
   "execution_count": 17,
   "id": "388eea02",
   "metadata": {},
   "outputs": [
    {
     "name": "stdout",
     "output_type": "stream",
     "text": [
      "B\n",
      "C\n"
     ]
    }
   ],
   "source": [
    "def grade(score):\n",
    "    if score >= 90:\n",
    "        return \"A\"\n",
    "    elif score >= 80:\n",
    "        return \"B\"\n",
    "    elif score >= 70:\n",
    "        return \"C\"\n",
    "    elif score >= 60:\n",
    "        return \"D\"\n",
    "    else:\n",
    "        return \"F\"\n",
    "\n",
    "result1 = grade(85)\n",
    "print(result1) \n",
    "\n",
    "result2 = grade(72)\n",
    "print(result2)  \n"
   ]
  },
  {
   "cell_type": "code",
   "execution_count": 18,
   "id": "8a0260b2",
   "metadata": {},
   "outputs": [
    {
     "data": {
      "text/plain": [
       "'4. What are lambda functions in Python? How are they different from regular functions? Provide an\\nexample where a lambda function can be useful.'"
      ]
     },
     "execution_count": 18,
     "metadata": {},
     "output_type": "execute_result"
    }
   ],
   "source": [
    "'''4. What are lambda functions in Python? How are they different from regular functions? Provide an\n",
    "example where a lambda function can be useful.'''"
   ]
  },
  {
   "cell_type": "code",
   "execution_count": 19,
   "id": "0e5c9539",
   "metadata": {},
   "outputs": [
    {
     "data": {
      "text/plain": [
       "\"Lambda functions, also known as anonymous functions, are a way to create small, one-line functions without a specific name. They are defined using the lambda keyword and can take any number of arguments, but can only have a single expression. Lambda functions are commonly used when you need a simple function for a short duration and don't want to define a separate named function.\""
      ]
     },
     "execution_count": 19,
     "metadata": {},
     "output_type": "execute_result"
    }
   ],
   "source": [
    "'''Lambda functions, also known as anonymous functions, are a way to create small, one-line functions without a specific name. They are defined using the lambda keyword and can take any number of arguments, but can only have a single expression. Lambda functions are commonly used when you need a simple function for a short duration and don't want to define a separate named function.'''"
   ]
  },
  {
   "cell_type": "code",
   "execution_count": 20,
   "id": "55864266",
   "metadata": {},
   "outputs": [
    {
     "name": "stdout",
     "output_type": "stream",
     "text": [
      "8\n"
     ]
    }
   ],
   "source": [
    "add = lambda x, y: x + y\n",
    "result = add(3, 5)\n",
    "print(result)  \n"
   ]
  },
  {
   "cell_type": "code",
   "execution_count": 21,
   "id": "53f1a2e6",
   "metadata": {},
   "outputs": [
    {
     "data": {
      "text/plain": [
       "'5. How does the concept of \"scope\" apply to functions in Python? Explain the difference between local\\nscope and global scope.'"
      ]
     },
     "execution_count": 21,
     "metadata": {},
     "output_type": "execute_result"
    }
   ],
   "source": [
    "'''5. How does the concept of \"scope\" apply to functions in Python? Explain the difference between local\n",
    "scope and global scope.'''"
   ]
  },
  {
   "cell_type": "code",
   "execution_count": 22,
   "id": "f48123c5",
   "metadata": {},
   "outputs": [
    {
     "data": {
      "text/plain": [
       "'Local Scope:\\nVariables defined inside a function have a local scope. They are only accessible within the function in which they are defined. Local variables exist only while the function is executing and are destroyed once the function completes its execution. They cannot be accessed from outside the function.'"
      ]
     },
     "execution_count": 22,
     "metadata": {},
     "output_type": "execute_result"
    }
   ],
   "source": [
    "'''Local Scope:\n",
    "Variables defined inside a function have a local scope. They are only accessible within the function in which they are defined. Local variables exist only while the function is executing and are destroyed once the function completes its execution. They cannot be accessed from outside the function.'''"
   ]
  },
  {
   "cell_type": "code",
   "execution_count": 24,
   "id": "a9c8c5df",
   "metadata": {},
   "outputs": [
    {
     "name": "stdout",
     "output_type": "stream",
     "text": [
      "10\n"
     ]
    },
    {
     "ename": "NameError",
     "evalue": "name 'x' is not defined",
     "output_type": "error",
     "traceback": [
      "\u001b[1;31m---------------------------------------------------------------------------\u001b[0m",
      "\u001b[1;31mNameError\u001b[0m                                 Traceback (most recent call last)",
      "Cell \u001b[1;32mIn[24], line 6\u001b[0m\n\u001b[0;32m      3\u001b[0m     \u001b[38;5;28mprint\u001b[39m(x)\n\u001b[0;32m      5\u001b[0m my_function() \n\u001b[1;32m----> 6\u001b[0m \u001b[38;5;28mprint\u001b[39m(\u001b[43mx\u001b[49m)\n",
      "\u001b[1;31mNameError\u001b[0m: name 'x' is not defined"
     ]
    }
   ],
   "source": [
    "def my_function():\n",
    "    x = 10  # Local variable\n",
    "    print(x)\n",
    "\n",
    "my_function() \n",
    "print(x)\n"
   ]
  },
  {
   "cell_type": "code",
   "execution_count": 25,
   "id": "4e6f8e93",
   "metadata": {},
   "outputs": [
    {
     "data": {
      "text/plain": [
       "'In this example, the variable x is defined within the my_function() function. It has a local scope and can only be accessed within the function. When the function is called, x is printed with the value 10. However, if we try to access x outside the function, a NameError occurs because x is not defined in the global scope.'"
      ]
     },
     "execution_count": 25,
     "metadata": {},
     "output_type": "execute_result"
    }
   ],
   "source": [
    "'''In this example, the variable x is defined within the my_function() function. It has a local scope and can only be accessed within the function. When the function is called, x is printed with the value 10. However, if we try to access x outside the function, a NameError occurs because x is not defined in the global scope.'''"
   ]
  },
  {
   "cell_type": "code",
   "execution_count": 26,
   "id": "68d4a005",
   "metadata": {},
   "outputs": [
    {
     "data": {
      "text/plain": [
       "'Global Scope:\\nVariables defined outside any function or at the top level of a module have a global scope. They are accessible throughout the entire program, including within functions. Global variables can be accessed and modified from any part of the program.'"
      ]
     },
     "execution_count": 26,
     "metadata": {},
     "output_type": "execute_result"
    }
   ],
   "source": [
    "'''Global Scope:\n",
    "Variables defined outside any function or at the top level of a module have a global scope. They are accessible throughout the entire program, including within functions. Global variables can be accessed and modified from any part of the program.'''"
   ]
  },
  {
   "cell_type": "code",
   "execution_count": 27,
   "id": "85923122",
   "metadata": {},
   "outputs": [
    {
     "name": "stdout",
     "output_type": "stream",
     "text": [
      "20\n"
     ]
    }
   ],
   "source": [
    "y = 20  # Global variable\n",
    "\n",
    "def my_function():\n",
    "    print(y)\n",
    "\n",
    "my_function()  \n",
    "'''In this example, the variable y is defined outside the function, making it a global variable. It can be accessed within the my_function() function because global variables are accessible from any part of the program. When the function is called, y is printed with the value 20.\n",
    "'''\n"
   ]
  },
  {
   "cell_type": "code",
   "execution_count": 28,
   "id": "b8163220",
   "metadata": {},
   "outputs": [
    {
     "name": "stdout",
     "output_type": "stream",
     "text": [
      "(10, 20)\n",
      "10\n",
      "20\n"
     ]
    }
   ],
   "source": [
    "# 6. How can you use the \"return\" statement in a Python function to return multiple values?\n",
    "'''Return as Tuple:\n",
    "You can use a tuple to return multiple values as a single object. Simply separate the values by commas in the return statement, and Python will automatically pack them into a tuple.'''\n",
    "def get_values():\n",
    "    a = 10\n",
    "    b = 20\n",
    "    return a, b\n",
    "\n",
    "result = get_values()\n",
    "print(result)  \n",
    "print(result[0]) \n",
    "print(result[1]) \n"
   ]
  },
  {
   "cell_type": "code",
   "execution_count": 30,
   "id": "82d2c293",
   "metadata": {},
   "outputs": [
    {
     "name": "stdout",
     "output_type": "stream",
     "text": [
      "[10, 20]\n"
     ]
    }
   ],
   "source": [
    "'''Returning Multiple Values as a List:\n",
    "Similar to returning as a tuple, you can return multiple values as a list by enclosing the values in square brackets within the return statement.'''\n",
    "\n",
    "def get_values():\n",
    "    x = 10\n",
    "    y = 20\n",
    "    return [x, y]\n",
    "\n",
    "result = get_values()\n",
    "print(result)  \n"
   ]
  },
  {
   "cell_type": "code",
   "execution_count": 31,
   "id": "420e285d",
   "metadata": {},
   "outputs": [
    {
     "name": "stdout",
     "output_type": "stream",
     "text": [
      "10\n",
      "20\n"
     ]
    }
   ],
   "source": [
    "'''Returning Multiple Values as Separate Variables:\n",
    "Another way to capture multiple return values is by assigning them to separate variables when calling the function. This approach works when the number of return values matches the number of variables used for assignment.\n",
    "'''\n",
    "def get_values():\n",
    "    x = 10\n",
    "    y = 20\n",
    "    return x, y\n",
    "\n",
    "a, b = get_values()\n",
    "print(a)  \n",
    "print(b)  \n"
   ]
  },
  {
   "cell_type": "code",
   "execution_count": 32,
   "id": "085ae0c3",
   "metadata": {},
   "outputs": [
    {
     "data": {
      "text/plain": [
       "'7. What is the difference between the \"pass by value\" and \"pass by reference\" concepts when it\\ncomes to function arguments in Python?'"
      ]
     },
     "execution_count": 32,
     "metadata": {},
     "output_type": "execute_result"
    }
   ],
   "source": [
    "'''7. What is the difference between the \"pass by value\" and \"pass by reference\" concepts when it\n",
    "comes to function arguments in Python?'''"
   ]
  },
  {
   "cell_type": "code",
   "execution_count": 33,
   "id": "2901897d",
   "metadata": {},
   "outputs": [
    {
     "data": {
      "text/plain": [
       "'Pass by Value:\\nIn a \"pass by value\" mechanism, the function receives a copy of the value of the argument passed. Any changes made to the function parameter do not affect the original value outside the function.\\n\\nPass by Reference:\\nIn a \"pass by reference\" mechanism, the function receives a reference to the original variable. Any modifications made to the function parameter will affect the original value outside the function.'"
      ]
     },
     "execution_count": 33,
     "metadata": {},
     "output_type": "execute_result"
    }
   ],
   "source": [
    "'''Pass by Value:\n",
    "In a \"pass by value\" mechanism, the function receives a copy of the value of the argument passed. Any changes made to the function parameter do not affect the original value outside the function.\n",
    "\n",
    "Pass by Reference:\n",
    "In a \"pass by reference\" mechanism, the function receives a reference to the original variable. Any modifications made to the function parameter will affect the original value outside the function.'''"
   ]
  },
  {
   "cell_type": "code",
   "execution_count": 34,
   "id": "1cae13a8",
   "metadata": {},
   "outputs": [
    {
     "name": "stdout",
     "output_type": "stream",
     "text": [
      "Inside function: 15\n",
      "Outside function: 5\n",
      "Inside function: [1, 2, 3, 4]\n",
      "Outside function: [1, 2, 3, 4]\n"
     ]
    }
   ],
   "source": [
    "'''\n",
    "Pass by Value (Immutable Objects):\n",
    "Immutable objects like integers, floats, strings, and tuples are passed by value. When a function modifies these values, it actually creates a new object and assigns it to the local variable, without modifying the original object outside the function.'''\n",
    "def modify_value(x):\n",
    "    x += 10\n",
    "    print(\"Inside function:\", x)\n",
    "\n",
    "y = 5\n",
    "modify_value(y)\n",
    "print(\"Outside function:\", y)\n",
    "\n",
    "'''\n",
    "Pass by Reference (Mutable Objects):\n",
    "Mutable objects like lists, dictionaries, and user-defined objects are passed by reference. When a function modifies these values, it operates directly on the original object, and the changes are visible outside the function.'''\n",
    "\n",
    "def modify_list(lst):\n",
    "    lst.append(4)\n",
    "    print(\"Inside function:\", lst)\n",
    "\n",
    "my_list = [1, 2, 3]\n",
    "modify_list(my_list)\n",
    "print(\"Outside function:\", my_list)\n"
   ]
  },
  {
   "cell_type": "code",
   "execution_count": 35,
   "id": "54c95182",
   "metadata": {},
   "outputs": [
    {
     "data": {
      "text/plain": [
       "'8. Create a function that can intake integer or decimal value and do following operations:\\na. Logarithmic function (log x)\\nb. Exponential function (exp(x))\\nc. Power function with base 2 (2\\nx\\n)\\n\\nd. Square root'"
      ]
     },
     "execution_count": 35,
     "metadata": {},
     "output_type": "execute_result"
    }
   ],
   "source": [
    "'''8. Create a function that can intake integer or decimal value and do following operations:\n",
    "a. Logarithmic function (log x)\n",
    "b. Exponential function (exp(x))\n",
    "c. Power function with base 2 (2\n",
    "x\n",
    ")\n",
    "\n",
    "d. Square root'''"
   ]
  },
  {
   "cell_type": "code",
   "execution_count": 36,
   "id": "b9dccc67",
   "metadata": {},
   "outputs": [
    {
     "name": "stdout",
     "output_type": "stream",
     "text": [
      "Logarithm: 1.5040773967762742\n",
      "Exponential: 90.01713130052181\n",
      "Power (base 2): 22.627416997969522\n",
      "Square Root: 2.1213203435596424\n"
     ]
    }
   ],
   "source": [
    "import math\n",
    "\n",
    "def perform_operations(x):\n",
    "    logarithm = math.log(x)\n",
    "    exponential = math.exp(x)\n",
    "    power = math.pow(2, x)\n",
    "    square_root = math.sqrt(x)\n",
    "    \n",
    "    return logarithm, exponential, power, square_root\n",
    "\n",
    "result = perform_operations(4.5)\n",
    "print(\"Logarithm:\", result[0])\n",
    "print(\"Exponential:\", result[1])\n",
    "print(\"Power (base 2):\", result[2])\n",
    "print(\"Square Root:\", result[3])\n"
   ]
  },
  {
   "cell_type": "code",
   "execution_count": 37,
   "id": "c70d08b3",
   "metadata": {},
   "outputs": [],
   "source": [
    "# 9. Create a function that takes a full name as an argument and returns first name and last name."
   ]
  },
  {
   "cell_type": "code",
   "execution_count": 38,
   "id": "3dd1b5f0",
   "metadata": {},
   "outputs": [
    {
     "name": "stdout",
     "output_type": "stream",
     "text": [
      "First Name: John\n",
      "Last Name: Doe\n"
     ]
    }
   ],
   "source": [
    "def get_first_and_last_name(full_name):\n",
    "    name_parts = full_name.split()\n",
    "    first_name = name_parts[0]\n",
    "    last_name = name_parts[-1]\n",
    "    return first_name, last_name\n",
    "\n",
    "name = \"John Doe\"\n",
    "first_name, last_name = get_first_and_last_name(name)\n",
    "print(\"First Name:\", first_name)\n",
    "print(\"Last Name:\", last_name)\n"
   ]
  },
  {
   "cell_type": "code",
   "execution_count": null,
   "id": "3c49ffc8",
   "metadata": {},
   "outputs": [],
   "source": []
  }
 ],
 "metadata": {
  "kernelspec": {
   "display_name": "Python 3 (ipykernel)",
   "language": "python",
   "name": "python3"
  },
  "language_info": {
   "codemirror_mode": {
    "name": "ipython",
    "version": 3
   },
   "file_extension": ".py",
   "mimetype": "text/x-python",
   "name": "python",
   "nbconvert_exporter": "python",
   "pygments_lexer": "ipython3",
   "version": "3.10.11"
  }
 },
 "nbformat": 4,
 "nbformat_minor": 5
}
